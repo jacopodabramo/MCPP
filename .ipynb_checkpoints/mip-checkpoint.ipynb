{
 "cells": [
  {
   "cell_type": "code",
   "execution_count": 1,
   "metadata": {
    "ExecuteTime": {
     "end_time": "2023-05-15T20:56:24.936614200Z",
     "start_time": "2023-05-15T20:56:21.501116Z"
    },
    "colab": {
     "base_uri": "https://localhost:8080/"
    },
    "id": "eBF8AJoph5QI",
    "outputId": "9509ef43-1da5-47fa-d185-3b2bc6735919"
   },
   "outputs": [
    {
     "name": "stdout",
     "output_type": "stream",
     "text": [
      "Requirement already satisfied: mip in c:\\users\\jacop\\python\\lib\\site-packages (1.15.0)\n",
      "Requirement already satisfied: cffi==1.15.* in c:\\users\\jacop\\python\\lib\\site-packages (from mip) (1.15.1)\n",
      "Requirement already satisfied: pycparser in c:\\users\\jacop\\python\\lib\\site-packages (from cffi==1.15.*->mip) (2.21)\n"
     ]
    },
    {
     "name": "stderr",
     "output_type": "stream",
     "text": [
      "\n",
      "[notice] A new release of pip is available: 23.1 -> 23.1.2\n",
      "[notice] To update, run: C:\\Users\\jacop\\Python\\python.exe -m pip install --upgrade pip\n"
     ]
    }
   ],
   "source": [
    "!pip install mip"
   ]
  },
  {
   "cell_type": "code",
   "execution_count": 1,
   "metadata": {
    "ExecuteTime": {
     "end_time": "2023-05-16T09:10:17.566792800Z",
     "start_time": "2023-05-16T09:10:17.277577600Z"
    },
    "id": "WXap39L2JEFr"
   },
   "outputs": [],
   "source": [
    "from mip import *\n",
    "import time"
   ]
  },
  {
   "cell_type": "code",
   "execution_count": 3,
   "metadata": {
    "ExecuteTime": {
     "end_time": "2023-05-15T20:56:25.224815200Z",
     "start_time": "2023-05-15T20:56:25.207346100Z"
    },
    "id": "jwvB9hA-ia3F"
   },
   "outputs": [],
   "source": [
    "n = 3\n",
    "m = 7\n",
    "courier_load = np.array([15,10,7])\n",
    "item_size = np.array([3,2,6,8,5,4,4])\n",
    "distances = np.array([[0,3,3,6,5,6,6,2],\n",
    "                      [3,0,4,3,4,7,7,3],\n",
    "                      [3,4,0,7,6,3,5,3],   \n",
    "                      [6,3,7,0,3,6,6,4],\n",
    "                      [5,4,6,3,0,3,3,3],\n",
    "                      [6,7,3,6,3,0,2,4],\n",
    "                      [6,7,5,6,3,2,0,4],\n",
    "                      [2,3,3,4,3,4,4,0]])"
   ]
  },
  {
   "cell_type": "code",
   "execution_count": 4,
   "metadata": {
    "ExecuteTime": {
     "end_time": "2023-05-15T20:56:25.256184500Z",
     "start_time": "2023-05-15T20:56:25.224815200Z"
    }
   },
   "outputs": [],
   "source": [
    "def linear_prod(binary_var, countinuos_var, model, ub, name):\n",
    "    res = model.add_var(var_type=INTEGER, name = name)\n",
    "    model += ub * binary_var >= res\n",
    "    model += countinuos_var >= res\n",
    "    model += countinuos_var - (1-binary_var)*ub <= res\n",
    "    model += res >= 0\n",
    "    return res"
   ]
  },
  {
   "cell_type": "markdown",
   "metadata": {},
   "source": [
    "## First model"
   ]
  },
  {
   "cell_type": "code",
   "execution_count": 2,
   "metadata": {
    "ExecuteTime": {
     "end_time": "2023-05-16T09:10:29.396885Z",
     "start_time": "2023-05-16T09:10:29.374459500Z"
    }
   },
   "outputs": [],
   "source": [
    "couriers = 3\n",
    "items = 7\n",
    "courier_size = [15,10,7]\n",
    "item_size = [3,2,6,8,5,4,4]\n",
    "distances = [[0,3,3,6,5,6,6,2],\n",
    "            [3,0,4,3,4,7,7,3],\n",
    "            [3,4,0,7,6,3,5,3],\n",
    "            [6,3,7,0,3,6,6,4],\n",
    "            [5,4,6,3,0,3,3,3],\n",
    "            [6,7,3,6,3,0,2,4],\n",
    "            [6,7,5,6,3,2,0,4],\n",
    "            [2,3,3,4,3,4,4,0]]"
   ]
  },
  {
   "cell_type": "code",
   "execution_count": 6,
   "metadata": {
    "ExecuteTime": {
     "end_time": "2023-05-15T20:56:35.502038900Z",
     "start_time": "2023-05-15T20:56:25.256184500Z"
    }
   },
   "outputs": [
    {
     "name": "stdout",
     "output_type": "stream",
     "text": [
      "Time =  10.210890531539917\n",
      "SAT:\n",
      "Massimo che trovo =  12.0\n",
      "Corriere  0\n",
      "Peso =  15.0\n",
      "Distanze 12.0\n",
      "Start = 7, End = 4\n",
      "Start = 4, End = 3\n",
      "Start = 3, End = 1\n",
      "Start = 1, End = 7\n",
      "Start = -1, End = -1\n",
      "Start = -1, End = -1\n",
      "Start = -1, End = -1\n",
      "Start = -1, End = -1\n",
      "Distanze calcolate =  12\n",
      "Corriere  1\n",
      "Peso =  10.0\n",
      "Distanze 10.0\n",
      "Start = 7, End = 2\n",
      "Start = 2, End = 5\n",
      "Start = 5, End = 7\n",
      "Start = -1, End = -1\n",
      "Start = -1, End = -1\n",
      "Start = -1, End = -1\n",
      "Start = -1, End = -1\n",
      "Start = -1, End = -1\n",
      "Distanze calcolate =  10\n",
      "Corriere  2\n",
      "Peso =  7.0\n",
      "Distanze 12.0\n",
      "Start = 7, End = 0\n",
      "Start = 0, End = 6\n",
      "Start = 6, End = 7\n",
      "Start = -1, End = -1\n",
      "Start = -1, End = -1\n",
      "Start = -1, End = -1\n",
      "Start = -1, End = -1\n",
      "Start = -1, End = -1\n",
      "Distanze calcolate =  12\n"
     ]
    }
   ],
   "source": [
    "from mip import *\n",
    "import time\n",
    "start_time = time.time()\n",
    "model = Model()\n",
    "ending_point = [[[model.add_var(var_type=BINARY, name=f'B{i}{j}{k}' )\n",
    "                    for i in range(items+1)] for j in range(items+1)] for k in range(couriers)]\n",
    "starting_point = [[[model.add_var(var_type=BINARY, name=f'A{i}{j}{k}')\n",
    "                    for i in range(items+1)] for j in range(items+1)] for k in range(couriers)]\n",
    "\n",
    "weights = [model.add_var(var_type=INTEGER, name=f'weigths{k}') for k in range(couriers)]\n",
    "# Each courier must start from origin\n",
    "# In ending point must be exactly one item\n",
    "\n",
    "distances_array = [\n",
    "    model.add_var(var_type=INTEGER, name=f'{k}') for k in range(couriers)]\n",
    "\n",
    "max = model.add_var()\n",
    "\n",
    "for k in range(couriers):\n",
    "    model += starting_point[k][0][items] == 1\n",
    "    model += xsum(ending_point[k][i][items] for i in range(items+1)) == 1\n",
    "\n",
    "\n",
    "\n",
    "# Each items must be deliverd --> exactlyone\n",
    "for j in range(items):\n",
    "    model += xsum(starting_point[k][i][j] for i in range(items + 1) for k in range(couriers)) == 1\n",
    "    model += xsum(ending_point[k][i][j] for i in range(items+ 1) for k in range(couriers)) == 1\n",
    "\n",
    "#if we arrive to the end the next starting point is -1\n",
    "# if startinf[k][i] == items then ending[k][i+1] = -1\n",
    "\n",
    "#M = items + 2  # a constant big enough to ensure the constraint is valid\n",
    "\n",
    "for k in range(couriers):\n",
    "    for i in range(items):\n",
    "        for j in range(items):\n",
    "            model += starting_point[k][i+1][j] == ending_point[k][i][j]\n",
    "\n",
    "for k in range(couriers):\n",
    "    for i in range(items):\n",
    "        model += xsum(starting_point[k][i+1]) + ending_point[k][i][items] <= 1\n",
    "\n",
    "for k in range(couriers):\n",
    "    for i in range(items+1):\n",
    "        for j in range(items+1):\n",
    "            model += starting_point[k][i][j] + ending_point[k][i][j] <= 1\n",
    "         # add the constraint when ending[k][i] == items\n",
    "        #model += starting_point[k][i+1] >= -1*(ending_point[k][i] == items)\n",
    "\n",
    "for k in range(couriers):\n",
    "    for i in range(items+1):\n",
    "        model += xsum(starting_point[k][i]) == xsum(ending_point[k][i])\n",
    "\n",
    "for k in range(couriers):\n",
    "    for i in range(items+1):\n",
    "        model += xsum(starting_point[k][i]) <= 1\n",
    "        model += xsum(ending_point[k][i]) <= 1\n",
    "\n",
    "for i in range(items):\n",
    "    model += xsum(starting_point[k][j][i] for k in range(couriers) for j in range(items+1)) == 1\n",
    "    model += xsum(ending_point[k][j][i] for k in range(couriers) for j in range(items+1)) == 1\n",
    "\n",
    "for k in range(couriers):\n",
    "    model += weights[k] == xsum(item_size[i]*starting_point[k][j][i]\n",
    "                                for i in range(items) for j in range(1, items+1))\n",
    "\n",
    "for k in range(couriers):\n",
    "    model += weights[k] <= courier_size[k]\n",
    "\n",
    "\n",
    "for k in range(couriers):\n",
    "    model += xsum(\n",
    "        linear_prod(starting_point[k][i][j], ending_point[k][i][l], model, 2, f'a{i}{j}{k}{l}')*distances[j][l]\n",
    "    for i in range(items+1)\n",
    "        for j in range(items+1)\n",
    "            for l in range(items+1)) == distances_array[k]\n",
    "\n",
    "for el in distances_array:\n",
    "    model += max >= el\n",
    "\n",
    "\n",
    "model.objective = minimize(max)\n",
    "model.optimize()\n",
    "print(\"Time = \", time.time() - start_time)\n",
    "if model.num_solutions == 0:\n",
    "    print(\"UNSAT COGLIONE\")\n",
    "else:\n",
    "    print(\"SAT:\")\n",
    "    print(\"Massimo che trovo = \",max.x)\n",
    "    for i in range(couriers):\n",
    "        print(\"Corriere \", i)\n",
    "        print(\"Peso = \", weights[i].x)\n",
    "        print(\"Distanze\", distances_array[i].x)\n",
    "        dist_comp = 0\n",
    "        for j in range(items+1):\n",
    "            start = -1\n",
    "            end = -1\n",
    "            for k in range(items+1):\n",
    "                #print(f\"Il valore di starting per la cella {j} in posizione {k} vale {starting_point[i][j][k].x}\")\n",
    "                #print(f\"Il valore di ending per la cella {j} in posizione {k} vale {ending_point[i][j][k].x}\")\n",
    "                if starting_point[i][j][k].x:\n",
    "                    start = k\n",
    "                if ending_point[i][j][k].x:\n",
    "                    end = k\n",
    "            if start != -1:\n",
    "                dist_comp += distances[start][end]\n",
    "            print(f\"Start = {start}, End = {end}\")\n",
    "        print(\"Distanze calcolate = \",dist_comp)\n"
   ]
  },
  {
   "cell_type": "markdown",
   "metadata": {},
   "source": [
    "## Second model"
   ]
  },
  {
   "cell_type": "code",
   "execution_count": 12,
   "metadata": {
    "ExecuteTime": {
     "end_time": "2023-05-16T09:32:43.671807900Z",
     "start_time": "2023-05-16T09:32:43.638133100Z"
    }
   },
   "outputs": [
    {
     "name": "stdout",
     "output_type": "stream",
     "text": [
      "0\n"
     ]
    },
    {
     "ename": "TypeError",
     "evalue": "unsupported operand type(s) for +: 'NoneType' and 'str'",
     "output_type": "error",
     "traceback": [
      "\u001b[1;31m---------------------------------------------------------------------------\u001b[0m",
      "\u001b[1;31mTypeError\u001b[0m                                 Traceback (most recent call last)",
      "Cell \u001b[1;32mIn[12], line 52\u001b[0m\n\u001b[0;32m     50\u001b[0m     st \u001b[38;5;241m=\u001b[39m \u001b[38;5;124m'\u001b[39m\u001b[38;5;124m'\u001b[39m\n\u001b[0;32m     51\u001b[0m     \u001b[38;5;28;01mfor\u001b[39;00m i \u001b[38;5;129;01min\u001b[39;00m \u001b[38;5;28mrange\u001b[39m(items\u001b[38;5;241m+\u001b[39m\u001b[38;5;241m1\u001b[39m):\n\u001b[1;32m---> 52\u001b[0m         \u001b[38;5;28;43mprint\u001b[39;49m\u001b[43m(\u001b[49m\u001b[38;5;28;43mint\u001b[39;49m\u001b[43m(\u001b[49m\u001b[43masg\u001b[49m\u001b[43m[\u001b[49m\u001b[43mk\u001b[49m\u001b[43m]\u001b[49m\u001b[43m[\u001b[49m\u001b[43mi\u001b[49m\u001b[43m]\u001b[49m\u001b[38;5;241;43m.\u001b[39;49m\u001b[43mx\u001b[49m\u001b[43m)\u001b[49m\u001b[43m)\u001b[49m\u001b[43m \u001b[49m\u001b[38;5;241;43m+\u001b[39;49m\u001b[43m \u001b[49m\u001b[38;5;124;43m'\u001b[39;49m\u001b[38;5;124;43m \u001b[39;49m\u001b[38;5;124;43m'\u001b[39;49m\n\u001b[0;32m     53\u001b[0m     \u001b[38;5;28mprint\u001b[39m(st\u001b[38;5;241m+\u001b[39m\u001b[38;5;124m'\u001b[39m\u001b[38;5;130;01m\\n\u001b[39;00m\u001b[38;5;124m'\u001b[39m)\n\u001b[0;32m     54\u001b[0m \u001b[38;5;124;03m'''\u001b[39;00m\n\u001b[0;32m     55\u001b[0m \u001b[38;5;124;03mfor k in range(couriers):\u001b[39;00m\n\u001b[0;32m     56\u001b[0m \u001b[38;5;124;03m    print('courier = ',k)\u001b[39;00m\n\u001b[1;32m   (...)\u001b[0m\n\u001b[0;32m     61\u001b[0m \u001b[38;5;124;03m        print(row)\u001b[39;00m\n\u001b[0;32m     62\u001b[0m \u001b[38;5;124;03m'''\u001b[39;00m\n",
      "\u001b[1;31mTypeError\u001b[0m: unsupported operand type(s) for +: 'NoneType' and 'str'"
     ]
    }
   ],
   "source": [
    "start_time = time.time()\n",
    "m = Model()\n",
    "\n",
    "asg = [[m.add_var(var_type=INTEGER,lb=0,ub = items+1, name=f'asg{i}{k}') for i in range(items+1)]for k in range(couriers)]\n",
    "\n",
    "weights = [m.add_var(var_type=INTEGER,lb=0, name=f'weigths{k}') for k in range(couriers)]\n",
    "\n",
    "distances_array = [m.add_var(var_type=INTEGER, name=f'dist{k}') for k in range(couriers)]\n",
    "\n",
    "order = [m.add_var(var_type=INTEGER,lb = 1, ub = items+1,name = f'ord{i}') for i in range(items+1)]\n",
    "\n",
    "binary_matrix = [[[m.add_var(var_type=BINARY,name=f'bin{k}_{j}_{i}') for i in range(items+1)] for j in range(items+1)] for k in range(couriers)]\n",
    "\n",
    "binary_matrix_column = [[[m.add_var(var_type=BINARY, name=f'cin_col{k}_{j}_{i}') for i in range (couriers)]for j in range(couriers)]for k in range(items+1)]\n",
    "\n",
    "max = m.add_var()\n",
    "\n",
    "#each item must be carried by exactly one courier\n",
    "for i in range(items):\n",
    "    m += xsum(asg[k][i] for k in range(couriers)) >= 1\n",
    "\n",
    "#each courier must move from the origin\n",
    "for k in range(couriers):\n",
    "    m += asg[k][items] >= 1\n",
    "'''\n",
    "#constraints for the binary matrix (each row and column must sum to 1)\n",
    "for k in range(couriers):\n",
    "    for i in range(items+1):\n",
    "        if i > 0:\n",
    "            m += xsum(binary_matrix[k][i]) == 1\n",
    "        m += xsum(binary_matrix[k][j][i] for j in range(items+1)) == 1\n",
    "\n",
    "for k in range(items+1):\n",
    "    for i in range(couriers):\n",
    "        m += xsum(binary_matrix_column[k][i]) == 1\n",
    "        m += xsum(binary_matrix_column[k][j][i] for j in range(couriers)) == 1\n",
    "\n",
    "for k in range(couriers):\n",
    "    for i in range(items+1):\n",
    "        m += asg[k][i] == xsum(j*binary_matrix[k][i][j] for j in range(items+1))\n",
    "\n",
    "for k in range(items+1):\n",
    "    for i in range(couriers):\n",
    "        m += asg[i][k] == xsum(j*binary_matrix_column[k][i][j] for j in range(couriers))\n",
    "'''\n",
    "\n",
    "m.optimize()\n",
    "\n",
    "for k in range(couriers):\n",
    "    st = ''\n",
    "    for i in range(items+1):\n",
    "        print(int(asg[k][i].x)) + ' '\n",
    "    print(st+'\\n')\n",
    "'''\n",
    "for k in range(couriers):\n",
    "    print('courier = ',k)\n",
    "    for i in range(items+1):\n",
    "        row = ''\n",
    "        for j in range(items+1):\n",
    "            row +=  str(int(binary_matrix[k][i][j].x))+ ' '\n",
    "        print(row)\n",
    "'''\n"
   ]
  },
  {
   "cell_type": "code",
   "execution_count": null,
   "metadata": {},
   "outputs": [],
   "source": []
  }
 ],
 "metadata": {
  "colab": {
   "provenance": []
  },
  "kernelspec": {
   "display_name": "Python 3 (ipykernel)",
   "language": "python",
   "name": "python3"
  },
  "language_info": {
   "codemirror_mode": {
    "name": "ipython",
    "version": 3
   },
   "file_extension": ".py",
   "mimetype": "text/x-python",
   "name": "python",
   "nbconvert_exporter": "python",
   "pygments_lexer": "ipython3",
   "version": "3.11.0"
  }
 },
 "nbformat": 4,
 "nbformat_minor": 1
}
