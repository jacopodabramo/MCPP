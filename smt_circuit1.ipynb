{
 "cells": [
  {
   "cell_type": "code",
   "execution_count": 42,
   "metadata": {
    "ExecuteTime": {
     "end_time": "2023-05-13T17:00:56.792911100Z",
     "start_time": "2023-05-13T17:00:56.792911100Z"
    }
   },
   "outputs": [],
   "source": [
    "from z3 import * "
   ]
  },
  {
   "cell_type": "code",
   "execution_count": 43,
   "metadata": {
    "ExecuteTime": {
     "end_time": "2023-05-13T17:00:56.823005300Z",
     "start_time": "2023-05-13T17:00:56.807379500Z"
    }
   },
   "outputs": [],
   "source": [
    "# Da prendere\n",
    "def toBinary(num, length = None):\n",
    "    num_bin = bin(num).split(\"b\")[-1]\n",
    "    if length:\n",
    "        return \"0\"*(length - len(num_bin)) + num_bin\n",
    "    return num_bin\n",
    "\n",
    "def at_least_one_bw(bool_vars):\n",
    "    return Or(bool_vars)\n",
    "\n",
    "def at_most_one_bw(bool_vars, name):\n",
    "    constraints = []\n",
    "    n = len(bool_vars)\n",
    "    m = math.ceil(math.log2(n))\n",
    "    r = [Bool(f\"r_{name}_{i}\") for i in range(m)]\n",
    "    binaries = [toBinary(i, m) for i in range(n)]\n",
    "    for i in range(n):\n",
    "        for j in range(m):\n",
    "            phi = Not(r[j])\n",
    "            if binaries[i][j] == \"1\":\n",
    "                phi = r[j]\n",
    "            constraints.append(Or(Not(bool_vars[i]), phi))\n",
    "    return And(constraints)\n",
    "\n",
    "def exactly_one_bw(bool_vars, name):\n",
    "    return And(at_least_one_bw(bool_vars), at_most_one_bw(bool_vars, name))\n",
    "\n",
    "def my_max(vs):\n",
    "    m = vs[0]\n",
    "    for v in vs[1:]:\n",
    "        m = If(v > m, v, m)\n",
    "    return m\n",
    "\n",
    "def is_circuit_element(i, val, iter, vector, items):    \n",
    "    if iter == items:\n",
    "        return False\n",
    "    return And(\n",
    "        And(\n",
    "        Not(vector[i] == items), Or(vector[i]==val, \n",
    "                                        is_circuit_element(vector[i], val, iter+1, vector, items))))\n"
   ]
  },
  {
   "cell_type": "code",
   "execution_count": 44,
   "metadata": {
    "ExecuteTime": {
     "end_time": "2023-05-13T17:00:56.843310300Z",
     "start_time": "2023-05-13T17:00:56.807379500Z"
    }
   },
   "outputs": [],
   "source": [
    "# # Create a solver\n",
    "# s = Solver()\n",
    "\n",
    "# # Utils function\n",
    "# def is_circuit_element(i, val, iter, vector, items):\n",
    "    \n",
    "#     if iter == items:\n",
    "#         return False\n",
    "#     return And(\n",
    "#         And(\n",
    "#         Not(vector[i] == items), Or(vector[i]==val, \n",
    "#                                         is_circuit_element(vector[i], val, iter+1, vector, items))))\n",
    "\n",
    "\n",
    "# vector = Array('x', IntSort(), IntSort())\n",
    "# print(type(vector))\n",
    "\n",
    "# s.add(vector[9] == 0)\n",
    "# s.add(vector[0] == 1)\n",
    "# s.add(vector[1] == 2)\n",
    "# s.add(vector[2] == 3)\n",
    "# s.add(vector[3] == 4)\n",
    "# s.add(vector[4] == 5)\n",
    "# s.add(vector[5] == 7)\n",
    "# s.add(vector[6] == -1)\n",
    "# s.add(vector[7] == 8)\n",
    "# s.add(vector[8] == 9)\n",
    "\n",
    "# for i in range(10):\n",
    "#     s.add(Implies(\n",
    "#         And(Select(vector, i) != -1, Select(vector, i) != 9)  , \n",
    "#         is_circuit_element(9, vector[i], 0, vector, 9)\n",
    "#     )\n",
    "#     )\n",
    "\n",
    "# s.add(vector[9] != 9)\n",
    "\n",
    "\n",
    "# for i in range(10):\n",
    "#     s.add(Select(vector, i) >= -1)\n",
    "#     s.add(Select(vector, i) <= 9)\n",
    "#     s.add(\n",
    "#         Implies(Select(vector, i) != -1, Select(vector, vector[i]) != -1\n",
    "#     )\n",
    "#     )\n",
    "# for j in range(10):\n",
    "#     s.add(vector[j] != j)\n",
    "    \n",
    "# for j in range(0, 10):\n",
    "#     s.add(at_most_one_bw([Select(vector, i) == j for i in range(0, 10)], f\"{j}\"))\n",
    "    \n",
    "# s.add(\n",
    "#     Or([Select(vector, i) == 9 for i in range(10)])\n",
    "# )\n",
    "\n",
    "# # for i in range(10):\n",
    "# #     s.add(exactly_one_bw([vector[j] == i for j in range(10)], f'{i}'))\n",
    "\n",
    "# s.check()\n",
    "\n",
    "\n",
    "# m = s.model()\n",
    "\n",
    "# print([m.evaluate(vector[i]) for i in range(10)])"
   ]
  },
  {
   "cell_type": "code",
   "execution_count": 45,
   "metadata": {
    "ExecuteTime": {
     "end_time": "2023-05-13T17:00:56.864299600Z",
     "start_time": "2023-05-13T17:00:56.848308600Z"
    }
   },
   "outputs": [],
   "source": [
    "# Smt model 1\n",
    "# Intsance\n",
    "couriers = 3\n",
    "items = 7\n",
    "couriers_size = [15,10,7]\n",
    "items_size = [3,2,6,8,5,4,4]\n",
    "distances = [\n",
    "    [0,3,3,6,5,6,6,2],\n",
    "    [3,0,4,3,4,7,7,3],\n",
    "    [3,4,0,7,6,3,5,3],\n",
    "    [6,3,7,0,3,6,6,4],\n",
    "    [5,4,6,3,0,3,3,3],\n",
    "    [6,7,3,6,3,0,2,4],\n",
    "    [6,7,5,6,3,2,0,4],\n",
    "    [2,3,3,4,3,4,4,0]]\n",
    "\n"
   ]
  },
  {
   "cell_type": "code",
   "execution_count": 46,
   "metadata": {
    "ExecuteTime": {
     "end_time": "2023-05-13T17:00:57.927000300Z",
     "start_time": "2023-05-13T17:00:56.865447300Z"
    }
   },
   "outputs": [
    {
     "name": "stdout",
     "output_type": "stream",
     "text": [
      "Time =  0.48\n",
      "sat\n",
      "[[-1, -1, 5, -1, 7, 4, -1, 2], [-1, 3, -1, 7, -1, -1, -1, 1], [7, -1, -1, -1, -1, -1, 0, 6]]\n",
      "[12, 10, 12]\n"
     ]
    }
   ],
   "source": [
    "# variables\n",
    "import time\n",
    "couriers_loads = [Int(f'loads{i}') for i in range(couriers)]\n",
    "\n",
    "final_distances = [Int(f\"dist{i}\") for i in range(couriers)]\n",
    "\n",
    "asg = [Array(f\"asg{i}\", IntSort(), IntSort()) for i in range(couriers)]\n",
    "\n",
    "# constraints\n",
    "s = Optimize()\n",
    "start_time = time.time()\n",
    "\n",
    "array_of_distances = [Array(f'distances{i}', IntSort(), IntSort()) for i in range(items+1)]\n",
    "\n",
    "#define the distances\n",
    "for i in range(items + 1):\n",
    "    for j in range(items + 1):\n",
    "        s.add(array_of_distances[i][j] == distances[i][j])\n",
    "\n",
    "# Compreso nel **\n",
    "#for k in range(couriers):\n",
    "#    s.add(asg[k][items] != items)\n",
    "\n",
    "for k in range(couriers):\n",
    "    for i in range(items+1):\n",
    "        s.add(Implies(\n",
    "                 And(asg[k][i] != -1, asg[k][i] != items), \n",
    "                 is_circuit_element(items, asg[k][i], 0, asg[k], items+1)\n",
    "             )\n",
    "        )\n",
    "\n",
    "for k in range(couriers):\n",
    "    for i in range(items+1):\n",
    "        s.add(asg[k][i] >= -1)\n",
    "        s.add(asg[k][i] <= items)\n",
    "        s.add(\n",
    "            Implies(asg[k][i] != -1, asg[k][asg[k][i]] != -1)\n",
    "        )\n",
    "# **\n",
    "for k in range(couriers):\n",
    "    for j in range(items+1):\n",
    "        s.add(asg[k][j] != j)\n",
    "\n",
    "# Rivedere\n",
    "for k in range(couriers):\n",
    "    for j in range(items+1):\n",
    "        s.add(at_most_one_bw([asg[k][i] == j for i in range(items+1)], f\"A{j}{k}\"))\n",
    "\n",
    "for k in range(couriers):\n",
    "    s.add(\n",
    "        Or([asg[k][i] == items for i in range(items+1)])\n",
    "    )\n",
    "\n",
    "for i in range(items):\n",
    "    s.add(exactly_one_bw(\n",
    "        [asg[k][j] == i for k in range(couriers) for j in range(items+1)], f'{i}')\n",
    "    )\n",
    "\n",
    "for k in range(couriers):\n",
    "    s.add(couriers_loads[k] == Sum(\n",
    "        [If(asg[k][i] != -1, items_size[i], 0) for i in range(items)]))\n",
    "    \n",
    "\n",
    "for k in range(couriers):\n",
    "    s.add(\n",
    "        couriers_loads[k] <= couriers_size[k]\n",
    "    )\n",
    "\n",
    "for k in range(couriers):\n",
    "    s.add(final_distances[k] == Sum(\n",
    "        [If(asg[k][i] != -1, array_of_distances[i][asg[k][i]], 0) for i in range(items+1)]))\n",
    "    \n",
    "\n",
    "max = Int(f\"max\")\n",
    "\n",
    "s.add(max == my_max([final_distances[i] for i in range(couriers)]))\n",
    "\n",
    "s.minimize(max)\n",
    "print(\"Time = \", round(time.time() - start_time,2))\n",
    "print(s.check())\n",
    "\n",
    "m = s.model()\n",
    "\n",
    "print([[m.evaluate(asg[k][j]) for j in range(items+1)] for k in range(couriers)])\n",
    "\n",
    "\n",
    "print([m.evaluate(final_distances[i]) for i in range(couriers)])"
   ]
  },
  {
   "cell_type": "code",
   "execution_count": 47,
   "outputs": [
    {
     "data": {
      "text/plain": "unsat",
      "text/html": "<b>unsat</b>"
     },
     "execution_count": 47,
     "metadata": {},
     "output_type": "execute_result"
    }
   ],
   "source": [
    "vector1 = Array('x', IntSort(), IntSort())\n",
    "vector2 = Array('x', IntSort(), IntSort())\n",
    "s.add(vector1[0] == 5)\n",
    "s.add(vector1[1] == 2)\n",
    "s.add(vector1[2] == 3)\n",
    "s.add(vector1[3] == 0)\n",
    "s.add(vector1[4] == 0)\n",
    "s.add(vector1[5] == 0)\n",
    "\n",
    "s.add(vector2[0] == 2)\n",
    "s.add(vector2[1] == 3)\n",
    "s.add(vector2[2] == 0)\n",
    "s.add(vector2[3] == 5)\n",
    "s.add(vector2[4] == 4)\n",
    "s.add(vector2[5] == 0)\n",
    "\n",
    "s.add(vector2[0] != 5)\n",
    "s.add(vector1[0] == 5)\n",
    "\n",
    "\n",
    "for i in range(6):\n",
    "    s.add(Implies(vector1[i] == 0, vector2[i] == 0))\n",
    "    s.add(Implies(vector1[i] != 0, vector2[i] != 0))\n",
    "\n",
    "\n",
    "s.add(exactly_one_bw([vector2[i] == 5 for i in range(6)], f\"A{i}\"))\n",
    "\n",
    "# Each arrival point must be the next starting one if different from the origin\n",
    "for i in range(6):\n",
    "    s.add(Implies(vector2[i] != 5,vector1[i+1] == vector2[i]))\n",
    "\n",
    "\n",
    "\n",
    "\n",
    "\n",
    "s.check()"
   ],
   "metadata": {
    "collapsed": false,
    "ExecuteTime": {
     "end_time": "2023-05-13T17:00:57.973872400Z",
     "start_time": "2023-05-13T17:00:57.927000300Z"
    }
   }
  },
  {
   "cell_type": "code",
   "execution_count": 47,
   "outputs": [],
   "source": [],
   "metadata": {
    "collapsed": false,
    "ExecuteTime": {
     "end_time": "2023-05-13T17:00:57.989496300Z",
     "start_time": "2023-05-13T17:00:57.973872400Z"
    }
   }
  }
 ],
 "metadata": {
  "kernelspec": {
   "display_name": "base",
   "language": "python",
   "name": "python3"
  },
  "language_info": {
   "codemirror_mode": {
    "name": "ipython",
    "version": 3
   },
   "file_extension": ".py",
   "mimetype": "text/x-python",
   "name": "python",
   "nbconvert_exporter": "python",
   "pygments_lexer": "ipython3",
   "version": "3.9.13"
  },
  "orig_nbformat": 4
 },
 "nbformat": 4,
 "nbformat_minor": 2
}
